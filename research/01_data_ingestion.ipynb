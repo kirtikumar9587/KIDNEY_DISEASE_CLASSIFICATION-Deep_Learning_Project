{
 "cells": [
  {
   "cell_type": "code",
   "execution_count": 1,
   "metadata": {},
   "outputs": [],
   "source": [
    "import os"
   ]
  },
  {
   "cell_type": "code",
   "execution_count": 2,
   "metadata": {},
   "outputs": [
    {
     "data": {
      "text/plain": [
       "'d:\\\\KIDNEY_DISEASE_CLASSIFICATION-Deep_Learning_Project\\\\research'"
      ]
     },
     "execution_count": 2,
     "metadata": {},
     "output_type": "execute_result"
    }
   ],
   "source": [
    "%pwd #present working directory #so get inside the research folder"
   ]
  },
  {
   "cell_type": "code",
   "execution_count": 3,
   "metadata": {},
   "outputs": [],
   "source": [
    "#for creating artifacts go bask to project directory\n",
    "os.chdir(\"..\")"
   ]
  },
  {
   "cell_type": "code",
   "execution_count": 4,
   "metadata": {},
   "outputs": [
    {
     "name": "stderr",
     "output_type": "stream",
     "text": [
      "UsageError: Line magic function `%pwd#so` not found.\n"
     ]
    }
   ],
   "source": [
    "%pwd#so come in deep learning project"
   ]
  },
  {
   "cell_type": "markdown",
   "metadata": {},
   "source": [
    "adding entity in modeular coding now creating inside notenook then adding."
   ]
  },
  {
   "cell_type": "code",
   "execution_count": 5,
   "metadata": {},
   "outputs": [],
   "source": [
    "# entiry is return type of any function ,returntype of data detation function\n",
    "#create out custmo entity using data calss\n",
    "from dataclasses import dataclass#is a decorator define top of data veriable so it can can access from anywhere this entity\n",
    "from pathlib import Path\n",
    "\n",
    "#root-dir from yaml file\n",
    "@dataclass(frozen=True)\n",
    "class DataIngestionConfig:\n",
    "    root_dir: Path\n",
    "    source_URL: str\n",
    "    local_data_file: Path\n",
    "    unzip_dir: Path\n",
    "\n",
    "    #here need to import two things"
   ]
  },
  {
   "cell_type": "code",
   "execution_count": 6,
   "metadata": {},
   "outputs": [
    {
     "name": "stdout",
     "output_type": "stream",
     "text": [
      "['d:\\\\KIDNEY_DISEASE_CLASSIFICATION-Deep_Learning_Project\\\\research', 'c:\\\\Users\\\\HP\\\\Anaconda3\\\\envs\\\\kidney\\\\python38.zip', 'c:\\\\Users\\\\HP\\\\Anaconda3\\\\envs\\\\kidney\\\\DLLs', 'c:\\\\Users\\\\HP\\\\Anaconda3\\\\envs\\\\kidney\\\\lib', 'c:\\\\Users\\\\HP\\\\Anaconda3\\\\envs\\\\kidney', '', 'c:\\\\Users\\\\HP\\\\Anaconda3\\\\envs\\\\kidney\\\\lib\\\\site-packages', 'd:\\\\kidney_disease_classification-deep_learning_project\\\\src', 'c:\\\\Users\\\\HP\\\\Anaconda3\\\\envs\\\\kidney\\\\lib\\\\site-packages\\\\win32', 'c:\\\\Users\\\\HP\\\\Anaconda3\\\\envs\\\\kidney\\\\lib\\\\site-packages\\\\win32\\\\lib', 'c:\\\\Users\\\\HP\\\\Anaconda3\\\\envs\\\\kidney\\\\lib\\\\site-packages\\\\Pythonwin']\n",
      "BoxValueError imported successfully\n"
     ]
    }
   ],
   "source": [
    "import sys\n",
    "print(sys.path)\n",
    "\n",
    "try:\n",
    "    from box.exceptions import BoxValueError\n",
    "    print(\"BoxValueError imported successfully\")\n",
    "except ModuleNotFoundError as e:\n",
    "    print(\"ModuleNotFoundError:\", e)\n"
   ]
  },
  {
   "cell_type": "code",
   "execution_count": 7,
   "metadata": {},
   "outputs": [
    {
     "name": "stdout",
     "output_type": "stream",
     "text": [
      "['d:\\\\KIDNEY_DISEASE_CLASSIFICATION-Deep_Learning_Project\\\\research', 'c:\\\\Users\\\\HP\\\\Anaconda3\\\\envs\\\\kidney\\\\python38.zip', 'c:\\\\Users\\\\HP\\\\Anaconda3\\\\envs\\\\kidney\\\\DLLs', 'c:\\\\Users\\\\HP\\\\Anaconda3\\\\envs\\\\kidney\\\\lib', 'c:\\\\Users\\\\HP\\\\Anaconda3\\\\envs\\\\kidney', '', 'c:\\\\Users\\\\HP\\\\Anaconda3\\\\envs\\\\kidney\\\\lib\\\\site-packages', 'd:\\\\kidney_disease_classification-deep_learning_project\\\\src', 'c:\\\\Users\\\\HP\\\\Anaconda3\\\\envs\\\\kidney\\\\lib\\\\site-packages\\\\win32', 'c:\\\\Users\\\\HP\\\\Anaconda3\\\\envs\\\\kidney\\\\lib\\\\site-packages\\\\win32\\\\lib', 'c:\\\\Users\\\\HP\\\\Anaconda3\\\\envs\\\\kidney\\\\lib\\\\site-packages\\\\Pythonwin']\n",
      "Box library installed successfully\n"
     ]
    }
   ],
   "source": [
    "from box.exceptions import BoxValueError\n",
    "import sys\n",
    "print(sys.path)\n",
    "print(\"Box library installed successfully\")"
   ]
  },
  {
   "cell_type": "code",
   "execution_count": 8,
   "metadata": {},
   "outputs": [],
   "source": [
    "from cnnClassifier.constants import * #* means all\n",
    "from cnnClassifier.utils.common import read_yaml , create_directories\n",
    "\n",
    "CONFIG_FILE_PATH = Path(\"config/config.yaml\")\n",
    "PARAMS_FILE_PATH = Path(\"params.yaml\")"
   ]
  },
  {
   "cell_type": "markdown",
   "metadata": {},
   "source": [
    "### this is technique used in entire project to managemetn thenentire variable \n",
    "### so get config easily by calling this config_manager"
   ]
  },
  {
   "cell_type": "code",
   "execution_count": 9,
   "metadata": {},
   "outputs": [],
   "source": [
    "#inside file created constructer 2 path initialize here in this class variable\n",
    "#inside this reading 2 files by read_yaml fun and store inn 2 var config and params\n",
    "#create directories self.artifacts_roots it will return as key value pair\n",
    "\n",
    "# Import constants\n",
    "class ConfigurationManager:\n",
    "    def __init__(self,config_filepath = CONFIG_FILE_PATH, params_filepath = PARAMS_FILE_PATH):\n",
    "\n",
    "        self.config = read_yaml(config_filepath)\n",
    "        self.params = read_yaml(params_filepath)\n",
    "\n",
    "        create_directories([self.config.artifacts_root])\n",
    "\n",
    "#above is configuration class inside it prepare data_ingestion related configuration\n",
    "#define above in class as entiry its returntype as DataIngestionConfig liek node calss in LL \n",
    "#this returnonly value mention in DataIngestionConfig\n",
    "\n",
    "#1.extracting data ingestion related configuration #2. and then storing one by one\n",
    "    def get_data_ingestion_config(self) -> DataIngestionConfig:\n",
    "        config = self.config.data_ingestion\n",
    "\n",
    "        create_directories([config.root_dir])\n",
    "\n",
    "        data_ingestion_config = DataIngestionConfig(\n",
    "            root_dir=config.root_dir,\n",
    "            source_URL=config.source_URL,\n",
    "            local_data_file=config.local_data_file,\n",
    "            unzip_dir=config.unzip_dir \n",
    "        )\n",
    "\n",
    "        return data_ingestion_config"
   ]
  },
  {
   "cell_type": "code",
   "execution_count": 10,
   "metadata": {},
   "outputs": [],
   "source": [
    "#now update the components step firstly do in notebook then convert it to modular coding\n",
    "import os\n",
    "import zipfile\n",
    "import gdown\n",
    "from cnnClassifier import logger\n",
    "from cnnClassifier.utils.common import get_size"
   ]
  },
  {
   "cell_type": "code",
   "execution_count": 11,
   "metadata": {},
   "outputs": [],
   "source": [
    "#1st prepare class data ingestion it take dataingconf from configmanager\n",
    "class DataIngestion:\n",
    "    def __init__(self, config: DataIngestionConfig):\n",
    "        self.config = config\n",
    "\n",
    "    #that's why call pipeline 1download 2 extract\n",
    "    #same as download from the google drive\n",
    "    def download_file(self)-> str:\n",
    "        '''\n",
    "        Fetch data from the url\n",
    "        '''\n",
    "\n",
    "        try: \n",
    "            dataset_url = self.config.source_URL\n",
    "            zip_download_dir = self.config.local_data_file\n",
    "            os.makedirs(\"artifacts/data_ingestion\", exist_ok=True)\n",
    "            logger.info(f\"Downloading data from {dataset_url} into file {zip_download_dir}\")\n",
    "\n",
    "            file_id = dataset_url.split(\"/\")[-2]\n",
    "            prefix = 'https://drive.google.com/uc?/export=download&id='\n",
    "            gdown.download(prefix+file_id,zip_download_dir)\n",
    "\n",
    "            logger.info(f\"Downloaded data from {dataset_url} into file {zip_download_dir}\")\n",
    "\n",
    "        except Exception as e:\n",
    "            raise e\n",
    "\n",
    "\n",
    "    #now data is dowmnload now need to extract it because it is a zip file\n",
    "    #unzip location is data_ingestion\n",
    "    def extract_zip_file(self):\n",
    "        \"\"\"\n",
    "        zip_file_path: str\n",
    "        Extracts the zip file into the data directory\n",
    "        Function returns None\n",
    "        \"\"\"\n",
    "        unzip_path = self.config.unzip_dir\n",
    "        os.makedirs(unzip_path, exist_ok=True)\n",
    "        with zipfile.ZipFile(self.config.local_data_file, 'r') as zip_ref:\n",
    "            zip_ref.extractall(unzip_path)\n"
   ]
  },
  {
   "cell_type": "code",
   "execution_count": 13,
   "metadata": {},
   "outputs": [
    {
     "name": "stdout",
     "output_type": "stream",
     "text": [
      "[2024-06-05 23:37:33,003: INFO: common: yaml file: config\\config.yaml loaded successfully]\n",
      "[2024-06-05 23:37:33,008: INFO: common: yaml file: params.yaml loaded successfully]\n",
      "[2024-06-05 23:37:33,010: INFO: common: created directory at: artifacts]\n",
      "[2024-06-05 23:37:33,024: INFO: common: created directory at: artifacts/data_ingestion]\n",
      "[2024-06-05 23:37:33,025: INFO: 3074633784: Downloading data from https://drive.google.com/file/d/1vlhZ5c7abUKF8xXERIw6m9Te8fW7ohw3/view?usp=sharing into file artifacts/data_ingestion/data.zip]\n"
     ]
    },
    {
     "name": "stderr",
     "output_type": "stream",
     "text": [
      "Downloading...\n",
      "From (original): https://drive.google.com/uc?/export=download&id=1vlhZ5c7abUKF8xXERIw6m9Te8fW7ohw3\n",
      "From (redirected): https://drive.google.com/uc?%2Fexport=download&id=1vlhZ5c7abUKF8xXERIw6m9Te8fW7ohw3&confirm=t&uuid=ec7d50e5-ab1c-49a8-8471-be00834100f1\n",
      "To: d:\\KIDNEY_DISEASE_CLASSIFICATION-Deep_Learning_Project\\artifacts\\data_ingestion\\data.zip\n",
      "100%|██████████| 57.7M/57.7M [00:54<00:00, 1.06MB/s]"
     ]
    },
    {
     "name": "stdout",
     "output_type": "stream",
     "text": [
      "[2024-06-05 23:38:31,525: INFO: 3074633784: Downloaded data from https://drive.google.com/file/d/1vlhZ5c7abUKF8xXERIw6m9Te8fW7ohw3/view?usp=sharing into file artifacts/data_ingestion/data.zip]\n"
     ]
    },
    {
     "name": "stderr",
     "output_type": "stream",
     "text": [
      "\n"
     ]
    }
   ],
   "source": [
    "#define the pipeline #try block inside that #open configmanager to take data-ingestion-config\n",
    "#making objec to call the class method\n",
    "#this will take config=dataingestion_config\n",
    "#then making object of this class to call extract and download method\n",
    "#once download is complete data.zip fileis crete in artifacts\n",
    "#so we can do data ingestion in notebook convert it into a modular coding\n",
    "\n",
    "try:\n",
    "    config = ConfigurationManager()\n",
    "    data_ingestion_config = config.get_data_ingestion_config()\n",
    "    data_ingestion = DataIngestion(config=data_ingestion_config)\n",
    "    data_ingestion.download_file()\n",
    "    data_ingestion.extract_zip_file()\n",
    "except Exception as e:\n",
    "    raise e"
   ]
  }
 ],
 "metadata": {
  "kernelspec": {
   "display_name": "Python 3.8.19 ('kidney')",
   "language": "python",
   "name": "python3"
  },
  "language_info": {
   "codemirror_mode": {
    "name": "ipython",
    "version": 3
   },
   "file_extension": ".py",
   "mimetype": "text/x-python",
   "name": "python",
   "nbconvert_exporter": "python",
   "pygments_lexer": "ipython3",
   "version": "3.8.19"
  },
  "orig_nbformat": 4,
  "vscode": {
   "interpreter": {
    "hash": "b2950450256ca36c3a3bfbd5eed38a4a435251aa79449ef38ec4dbf67549691b"
   }
  }
 },
 "nbformat": 4,
 "nbformat_minor": 2
}
